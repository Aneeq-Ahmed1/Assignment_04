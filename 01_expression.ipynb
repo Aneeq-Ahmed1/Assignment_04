{
  "nbformat": 4,
  "nbformat_minor": 0,
  "metadata": {
    "colab": {
      "provenance": [],
      "authorship_tag": "ABX9TyOET5fLz1s1dIMiF8UULJ2g",
      "include_colab_link": true
    },
    "kernelspec": {
      "name": "python3",
      "display_name": "Python 3"
    },
    "language_info": {
      "name": "python"
    }
  },
  "cells": [
    {
      "cell_type": "markdown",
      "metadata": {
        "id": "view-in-github",
        "colab_type": "text"
      },
      "source": [
        "<a href=\"https://colab.research.google.com/github/Aneeq-Ahmed1/Assignment_04/blob/master/01_expression.ipynb\" target=\"_parent\"><img src=\"https://colab.research.google.com/assets/colab-badge.svg\" alt=\"Open In Colab\"/></a>"
      ]
    },
    {
      "cell_type": "code",
      "execution_count": 8,
      "metadata": {
        "id": "joMoeXySi417",
        "colab": {
          "base_uri": "https://localhost:8080/"
        },
        "outputId": "d664f9e0-b4d5-4aca-c1e4-57e2aa77b8c9"
      },
      "outputs": [
        {
          "output_type": "stream",
          "name": "stdout",
          "text": [
            "01_dicesimulator\n",
            "die1 in main() start as: 10\n",
            "Total of two dies: 8\n",
            "Total of two dies: 8\n",
            "Total of two dies: 8\n",
            "die1 in main() is: 10\n"
          ]
        }
      ],
      "source": [
        "import random\n",
        "print(\"01_dicesimulator\")\n",
        "\n",
        "def roll_dice():\n",
        "  die1:int = random.randint(1,6)\n",
        "  die2:int = random.randint(1,6)\n",
        "  total:int = die1 + die2\n",
        "  print(f'Total of two dies: {total}')\n",
        "\n",
        "def main():\n",
        "  die1:int = 10\n",
        "  print(\"die1 in main() start as: \" + str(die1))\n",
        "  roll_dice()\n",
        "  roll_dice()\n",
        "  roll_dice()\n",
        "  print(\"die1 in main() is: \" + str(die1))\n",
        "\n",
        "if __name__ == \"__main__\":\n",
        "  main()"
      ]
    },
    {
      "cell_type": "code",
      "source": [
        "print(\"02_e=mc2\")\n",
        "\n",
        "def mass_to_energy():\n",
        "    C = 299792458\n",
        "    mass = float(input(\"Enter kilos of mass: \"))\n",
        "    energy = mass * C**2\n",
        "\n",
        "    print(\"\\ne = m * C^2...\\n\")\n",
        "    print(f\"m = {mass} kg\")\n",
        "    print(f\"C = {C} m/s\\n\")\n",
        "    print(f\"{energy} joules of energy!\")\n",
        "\n",
        "if __name__ == \"__main__\":\n",
        "    mass_to_energy()\n"
      ],
      "metadata": {
        "colab": {
          "base_uri": "https://localhost:8080/"
        },
        "id": "C7Q37AicGnOH",
        "outputId": "21eae334-e65f-4a49-8c06-4b3a853816b8"
      },
      "execution_count": 11,
      "outputs": [
        {
          "output_type": "stream",
          "name": "stdout",
          "text": [
            "02_e=mc2\n",
            "Enter kilos of mass: 40\n",
            "\n",
            "e = m * C^2...\n",
            "\n",
            "m = 40.0 kg\n",
            "C = 299792458 m/s\n",
            "\n",
            "3.5950207149472707e+18 joules of energy!\n"
          ]
        }
      ]
    },
    {
      "cell_type": "code",
      "source": [
        "print(\"03_feet_to_inches\")\n",
        "\n",
        "def feet_to_inches():\n",
        "\n",
        "    INCHES_PER_FOOT = 12\n",
        "    feet = float(input(\"Enter length in feet: \"))\n",
        "    inches = feet * INCHES_PER_FOOT\n",
        "\n",
        "    print(f\"{feet} feet is equal to {inches} inches.\")\n",
        "\n",
        "if __name__ == \"__main__\":\n",
        "    feet_to_inches()\n"
      ],
      "metadata": {
        "colab": {
          "base_uri": "https://localhost:8080/"
        },
        "id": "OSFQb2UUIcW2",
        "outputId": "6711f835-a6be-425d-a02f-451f6653d487"
      },
      "execution_count": 12,
      "outputs": [
        {
          "output_type": "stream",
          "name": "stdout",
          "text": [
            "03_feet_to_inches\n",
            "Enter length in feet: 45\n",
            "45.0 feet is equal to 540.0 inches.\n"
          ]
        }
      ]
    },
    {
      "cell_type": "code",
      "source": [
        "print(\"04_pythagorean_theorem\")\n",
        "\n",
        "import math\n",
        "\n",
        "def calculate_hypotenuse():\n",
        "    ab = float(input(\"Enter the length of AB: \"))\n",
        "    ac = float(input(\"Enter the length of AC: \"))\n",
        "    bc = math.sqrt(ab ** 2 + ac ** 2)\n",
        "\n",
        "    print(f\"The length of BC (the hypotenuse) is: {bc}\")\n",
        "\n",
        "if __name__ == \"__main__\":\n",
        "    calculate_hypotenuse()\n"
      ],
      "metadata": {
        "colab": {
          "base_uri": "https://localhost:8080/"
        },
        "id": "1VRgs2kDJaZ8",
        "outputId": "c5fce6d8-b49b-4144-c66c-4f3d1fb5cb2e"
      },
      "execution_count": 13,
      "outputs": [
        {
          "output_type": "stream",
          "name": "stdout",
          "text": [
            "04_pythagorean_theorem\n",
            "Enter the length of AB: 10\n",
            "Enter the length of AC: 20\n",
            "The length of BC (the hypotenuse) is: 22.360679774997898\n"
          ]
        }
      ]
    },
    {
      "cell_type": "code",
      "source": [
        "print(\"05_remainder_division\")\n",
        "\n",
        "def divide_numbers():\n",
        "    dividend = int(input(\"Please enter an integer to be divided: \"))\n",
        "    divisor = int(input(\"Please enter an integer to divide by: \"))\n",
        "    quotient = dividend // divisor\n",
        "    remainder = dividend % divisor\n",
        "\n",
        "    print(f\"The result of this division is {quotient} with a remainder of {remainder}\")\n",
        "\n",
        "if __name__ == \"__main__\":\n",
        "    divide_numbers()\n"
      ],
      "metadata": {
        "colab": {
          "base_uri": "https://localhost:8080/"
        },
        "id": "roV9TDD5KP0U",
        "outputId": "7dba285d-25c3-4143-cdf8-848be37587f1"
      },
      "execution_count": 14,
      "outputs": [
        {
          "output_type": "stream",
          "name": "stdout",
          "text": [
            "05_remainder_division\n",
            "Please enter an integer to be divided: 1\n",
            "Please enter an integer to divide by: 2\n",
            "The result of this division is 0 with a remainder of 1\n"
          ]
        }
      ]
    },
    {
      "cell_type": "code",
      "source": [
        "print(\"06_rolldice.\")\n",
        "\n",
        "import random\n",
        "\n",
        "def roll_dice():\n",
        "    die1:int = random.randint(1, 6)\n",
        "    die2:int = random.randint(1, 6)\n",
        "    total:int = die1 + die2\n",
        "\n",
        "    print(f\"Die 1: {die1}\")\n",
        "    print(f\"Die 2: {die2}\")\n",
        "    print(f\"Total: {total}\")\n",
        "\n",
        "if __name__ == \"__main__\":\n",
        "    roll_dice()"
      ],
      "metadata": {
        "colab": {
          "base_uri": "https://localhost:8080/"
        },
        "id": "lj5bAl-1LFyL",
        "outputId": "37729015-4d16-4e2e-e56f-4338eb50e346"
      },
      "execution_count": 31,
      "outputs": [
        {
          "output_type": "stream",
          "name": "stdout",
          "text": [
            "06_rolldice.\n",
            "First die: 4\n",
            "Second die:2\n",
            "Total of two dies : 6\n"
          ]
        }
      ]
    },
    {
      "cell_type": "code",
      "source": [
        "print(\"06_seconds_in_year\")\n",
        "\n",
        "def seconds_in_a_year():\n",
        "    days_in_year = 365\n",
        "    hours_in_day = 24\n",
        "    minutes_in_hour = 60\n",
        "    second_in_minutes = 60\n",
        "\n",
        "    total_seconds = days_in_year * hours_in_day * minutes_in_hour * second_in_minutes\n",
        "\n",
        "    print(f\"There are {total_seconds} seconds in a year!\")\n",
        "\n",
        "if __name__ == \"__main__\":\n",
        "    seconds_in_a_year()\n"
      ],
      "metadata": {
        "colab": {
          "base_uri": "https://localhost:8080/"
        },
        "id": "Bciz5S0ZMD0L",
        "outputId": "baac0782-79b9-4d90-ec42-3dc5f49e457c"
      },
      "execution_count": 36,
      "outputs": [
        {
          "output_type": "stream",
          "name": "stdout",
          "text": [
            "06_seconds_in_year\n",
            "There are 31536000 seconds in a year!\n"
          ]
        }
      ]
    },
    {
      "cell_type": "code",
      "source": [
        "print(\"7_tiny_mad_lib\")\n",
        "\n",
        "def mad_libs():\n",
        "    adjective = input(\"Please type an adjective and press enter: \")\n",
        "    noun = input(\"Please type a noun and press enter: \")\n",
        "    verb = input(\"Please type a verb and press enter: \")\n",
        "\n",
        "    print(f\"Code in Place is fun. I learned to program and used Python to make my {adjective} {noun} {verb}!\")\n",
        "\n",
        "if __name__ == \"__main__\":\n",
        "    mad_libs()\n"
      ],
      "metadata": {
        "colab": {
          "base_uri": "https://localhost:8080/"
        },
        "id": "ikvy5rn1O5ay",
        "outputId": "4c01d98a-33cf-4953-8287-6ab66de95364"
      },
      "execution_count": 37,
      "outputs": [
        {
          "output_type": "stream",
          "name": "stdout",
          "text": [
            "7_tiny_mad_lib\n",
            "Please type an adjective and press enter: as\n",
            "Please type a noun and press enter: name\n",
            "Please type a verb and press enter: is\n",
            "Code in Place is fun. I learned to program and used Python to make my as name is!\n"
          ]
        }
      ]
    }
  ]
}