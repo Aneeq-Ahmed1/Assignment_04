{
  "nbformat": 4,
  "nbformat_minor": 0,
  "metadata": {
    "colab": {
      "provenance": [],
      "authorship_tag": "ABX9TyOvKNluCRqWCdZemRlgIETj",
      "include_colab_link": true
    },
    "kernelspec": {
      "name": "python3",
      "display_name": "Python 3"
    },
    "language_info": {
      "name": "python"
    }
  },
  "cells": [
    {
      "cell_type": "markdown",
      "metadata": {
        "id": "view-in-github",
        "colab_type": "text"
      },
      "source": [
        "<a href=\"https://colab.research.google.com/github/Aneeq-Ahmed1/Assignment_04/blob/master/00_intro_python.ipynb\" target=\"_parent\"><img src=\"https://colab.research.google.com/assets/colab-badge.svg\" alt=\"Open In Colab\"/></a>"
      ]
    },
    {
      "cell_type": "code",
      "execution_count": 25,
      "metadata": {
        "id": "pRLIX7VLI5UQ",
        "colab": {
          "base_uri": "https://localhost:8080/"
        },
        "outputId": "9f606437-1514-48ad-9f35-44348feedcdd"
      },
      "outputs": [
        {
          "output_type": "stream",
          "name": "stdout",
          "text": [
            "01_add_two_numbers\n",
            "This application for add two numbers\n",
            "Enter your first number.! 5\n",
            "Enter your second nunber.! 55\n",
            "The total sum of 5 and 55 is 60\n"
          ]
        }
      ],
      "source": [
        "print(\"01_add_two_numbers\")\n",
        "\n",
        "def add():\n",
        "  print(\"This application for add two numbers\")\n",
        "  first_number = int(input(\"Enter your first number.! \"))\n",
        "  second_number = int(input(\"Enter your second nunber.! \"))\n",
        "  total_sum = int(first_number + second_number)\n",
        "  print(f'The total sum of {first_number} and {second_number} is {total_sum}')\n",
        "\n",
        "if __name__ == \"__main__\":\n",
        "  add()"
      ]
    },
    {
      "cell_type": "code",
      "source": [
        "print(\"02_agreement_bot\")\n",
        "\n",
        "def main():\n",
        "    favorite_animal = input(\"What's your favorite animal? \")\n",
        "    print(f\"My favorite animal is also {favorite_animal}!\")\n",
        "if __name__ == \"__main__\":\n",
        "    main()"
      ],
      "metadata": {
        "colab": {
          "base_uri": "https://localhost:8080/"
        },
        "id": "Rg3v5dIpU2ti",
        "outputId": "d132743e-a535-4816-cbee-1589adcfb448"
      },
      "execution_count": 34,
      "outputs": [
        {
          "output_type": "stream",
          "name": "stdout",
          "text": [
            "02_agreement_bot\n",
            "What's your favorite animal? kit-cat\n",
            "My favorite animal is also kit-cat!\n"
          ]
        }
      ]
    },
    {
      "cell_type": "code",
      "source": [
        "print(\"03_fahrenheit_to_celsius\")\n",
        "\n",
        "def temp():\n",
        "\n",
        "    degrees_fahrenheit = float(input(\"Enter temperature in Fahrenheit: \"))\n",
        "    degrees_celsius = (degrees_fahrenheit - 32) * 5.0 / 9.0\n",
        "    print(f\"Temperature: {degrees_fahrenheit}F = {degrees_celsius}C\")\n",
        "\n",
        "if __name__ == \"__main__\":\n",
        "    temp()\n",
        "\n"
      ],
      "metadata": {
        "colab": {
          "base_uri": "https://localhost:8080/"
        },
        "id": "Wp-1Gb4RX81h",
        "outputId": "66032df6-b089-4eb6-eac4-83ac24d2a1a5"
      },
      "execution_count": 38,
      "outputs": [
        {
          "output_type": "stream",
          "name": "stdout",
          "text": [
            "03_fahrenheit_to_celsius\n",
            "Enter temperature in Fahrenheit: 22\n",
            "Temperature: 22.0F = -5.555555555555555C\n"
          ]
        }
      ]
    },
    {
      "cell_type": "code",
      "source": [
        "print(\"04_how_old_are_they\")\n",
        "\n",
        "def main():\n",
        "    anton_age = 21\n",
        "    beth_age = anton_age + 6\n",
        "    chen_age = beth_age + 20\n",
        "    drew_age = chen_age + anton_age\n",
        "    ethan_age = chen_age\n",
        "\n",
        "    print(f\"Anton is {anton_age} years old.\")\n",
        "    print(f\"Beth is {beth_age} years old.\")\n",
        "    print(f\"Chen is {chen_age} years old.\")\n",
        "    print(f\"Drew is {drew_age} years old.\")\n",
        "    print(f\"Ethan is {ethan_age} years old.\")\n",
        "if __name__ == \"__main__\":\n",
        "    main()\n"
      ],
      "metadata": {
        "colab": {
          "base_uri": "https://localhost:8080/"
        },
        "id": "hnwbXxw5ZnPK",
        "outputId": "edb2bde0-c1e6-48e9-9f92-9a043ae4d381"
      },
      "execution_count": 39,
      "outputs": [
        {
          "output_type": "stream",
          "name": "stdout",
          "text": [
            "04_how_old_are_they\n",
            "Anton is 21 years old.\n",
            "Beth is 27 years old.\n",
            "Chen is 47 years old.\n",
            "Drew is 68 years old.\n",
            "Ethan is 47 years old.\n"
          ]
        }
      ]
    },
    {
      "cell_type": "code",
      "source": [
        "print(\"05_triangle_perimeter.\")\n",
        "\n",
        "def triangle():\n",
        "  print(\"this code is about perimenter of triangle.\")\n",
        "  side1:float = float(input(\"Enter your first side number of triangle sides\"))\n",
        "  side2:float = float(input(\"Enter your second side number of triangle sides\"))\n",
        "  side3:float = float(input(\"Enter your third side number of triangle sides\"))\n",
        "  total:float = float(side1 + side2 + side3)\n",
        "  print(f'The perimeter of the triangle is is {total}')\n",
        "\n",
        "if __name__ == \"__main__\":\n",
        "   triangle()\n"
      ],
      "metadata": {
        "colab": {
          "base_uri": "https://localhost:8080/"
        },
        "id": "kKu8Nx07bQES",
        "outputId": "e0276cdc-34e2-4929-bae1-6923836de2a9"
      },
      "execution_count": 45,
      "outputs": [
        {
          "output_type": "stream",
          "name": "stdout",
          "text": [
            "05_triangle_perimeter.\n",
            "this code is about perimenter of triangle.\n",
            "Enter your first side number of triangle sides12\n",
            "Enter your second side number of triangle sides12\n",
            "Enter your third side number of triangle sides12\n",
            "The perimeter of the triangle is is 36.0\n"
          ]
        }
      ]
    },
    {
      "cell_type": "code",
      "source": [
        "print(\"06_square_number\")\n",
        "\n",
        "def square():\n",
        "  print(\"This code is about square of given number\")\n",
        "  num1:int = int(input(\"Enter any number and i will give u a square value. \"))\n",
        "  print(f'The square of {num1} is {num1 ** 2}')\n",
        "\n",
        "if __name__ == \"__main__\":\n",
        "  square()"
      ],
      "metadata": {
        "colab": {
          "base_uri": "https://localhost:8080/"
        },
        "id": "lieF0RVdeO1u",
        "outputId": "8089c413-60ed-4e39-f53c-ae231ced6393"
      },
      "execution_count": 50,
      "outputs": [
        {
          "output_type": "stream",
          "name": "stdout",
          "text": [
            "06_square_number\n",
            "This code is about square of given number\n",
            "Enter any number and i will give u a square value. 5\n",
            "The square of 5 is 25\n"
          ]
        }
      ]
    }
  ]
}