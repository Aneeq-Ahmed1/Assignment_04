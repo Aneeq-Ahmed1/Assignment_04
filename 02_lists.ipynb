{
  "nbformat": 4,
  "nbformat_minor": 0,
  "metadata": {
    "colab": {
      "provenance": [],
      "authorship_tag": "ABX9TyMNm03FaPDCOo1owNnxwyE8",
      "include_colab_link": true
    },
    "kernelspec": {
      "name": "python3",
      "display_name": "Python 3"
    },
    "language_info": {
      "name": "python"
    }
  },
  "cells": [
    {
      "cell_type": "markdown",
      "metadata": {
        "id": "view-in-github",
        "colab_type": "text"
      },
      "source": [
        "<a href=\"https://colab.research.google.com/github/Aneeq-Ahmed1/Assignment_04/blob/master/02_lists.ipynb\" target=\"_parent\"><img src=\"https://colab.research.google.com/assets/colab-badge.svg\" alt=\"Open In Colab\"/></a>"
      ]
    },
    {
      "cell_type": "code",
      "execution_count": null,
      "metadata": {
        "colab": {
          "base_uri": "https://localhost:8080/"
        },
        "id": "2m46xzkQRwFy",
        "outputId": "d1488b0a-0349-4598-c855-608163269a7a"
      },
      "outputs": [
        {
          "output_type": "stream",
          "name": "stdout",
          "text": [
            "01_add_many_number\n",
            "The sum of [1, 2, 3, 4, 5, 6] is 21\n"
          ]
        }
      ],
      "source": [
        "print(\"01_add_many_number\")\n",
        "\n",
        "def sum_numbers(numbers):\n",
        "\n",
        "    return sum(numbers)\n",
        "if __name__ == \"__main__\":\n",
        "    num_list = [1, 2, 3, 4, 5, 6]\n",
        "    print(f\"The sum of {num_list} is {sum_numbers(num_list)}\")\n"
      ]
    },
    {
      "cell_type": "code",
      "source": [
        "print(\"02_double_list\")\n",
        "\n",
        "def double_numbers(numbers):\n",
        "\n",
        "    return [num * 2 for num in numbers]\n",
        "if __name__ == \"__main__\":\n",
        "    num_list = [1, 2, 3, 4]\n",
        "    doubled_list = double_numbers(num_list)\n",
        "    print(f\"The doubled numbers are: {doubled_list}\")\n"
      ],
      "metadata": {
        "colab": {
          "base_uri": "https://localhost:8080/"
        },
        "id": "fVjMmtahTOGL",
        "outputId": "1527afc7-f9fa-4f76-df9c-ed65eb6e0bfa"
      },
      "execution_count": null,
      "outputs": [
        {
          "output_type": "stream",
          "name": "stdout",
          "text": [
            "02_double_list\n",
            "The doubled numbers are: [2, 4, 6, 8]\n"
          ]
        }
      ]
    },
    {
      "cell_type": "code",
      "source": [
        "print(\"03_erase_canvas\")\n"
      ],
      "metadata": {
        "colab": {
          "base_uri": "https://localhost:8080/"
        },
        "id": "W2axrygIUZtk",
        "outputId": "30994531-a244-4ddc-8957-4a85ef1d4196"
      },
      "execution_count": null,
      "outputs": [
        {
          "output_type": "stream",
          "name": "stdout",
          "text": [
            "03_erase_canvas\n"
          ]
        }
      ]
    },
    {
      "cell_type": "code",
      "source": [
        "print(\"04_flowing_with_data_structures\")\n",
        "\n",
        "def add_three_copies(lst, data):\n",
        "    for _ in range(3):\n",
        "        lst.append(data)\n",
        "data = input(\"Enter a message to copy: \")\n",
        "my_list = []\n",
        "\n",
        "print(\"List before:\", my_list)\n",
        "add_three_copies(my_list, data)\n",
        "\n",
        "print(\"List after:\", my_list)\n"
      ],
      "metadata": {
        "colab": {
          "base_uri": "https://localhost:8080/"
        },
        "id": "VPgciTPHVC8-",
        "outputId": "c2c228b9-368d-498a-f4f0-60479e6d6dc8"
      },
      "execution_count": null,
      "outputs": [
        {
          "output_type": "stream",
          "name": "stdout",
          "text": [
            "04_flowing_with_data_structures\n",
            "Enter a message to copy: hello\n",
            "List before: []\n",
            "List after: ['hello', 'hello', 'hello']\n"
          ]
        }
      ]
    },
    {
      "cell_type": "code",
      "source": [
        "print(\"05_get_first_element\")\n",
        "\n",
        "def get_first_element(lst):\n",
        " print(lst[0])\n",
        "\n",
        "def get_lst():\n",
        "  lst = []\n",
        "  element:str = input (\"Enter an element to add to the list.!\")\n",
        "  while element != \"\":\n",
        "   lst.append(element)\n",
        "   element = input(\"Enter an element to add to the list.!\")\n",
        "   return lst\n",
        "\n",
        "def main():\n",
        "  lst = get_lst()\n",
        "  get_first_element(lst)\n",
        "\n",
        "if __name__ == \"__main__\":\n",
        "  main()\n",
        "\n"
      ],
      "metadata": {
        "colab": {
          "base_uri": "https://localhost:8080/"
        },
        "id": "1y7htQHivPTp",
        "outputId": "3b2e9180-73b6-495f-c33d-ed98556d58e8"
      },
      "execution_count": 30,
      "outputs": [
        {
          "output_type": "stream",
          "name": "stdout",
          "text": [
            "05_get_first_element\n",
            "Enter an element to add to the list.!a\n",
            "Enter an element to add to the list.!s\n",
            "a\n"
          ]
        }
      ]
    },
    {
      "cell_type": "code",
      "source": [
        "print(\"06_get_last_element\")\n",
        "\n",
        "# def get_last_element(lst):\n",
        "#  print(lst[-1])\n",
        "\n",
        "# def get_lst():\n",
        "#   lst = []\n",
        "#   element:str = input (\"Enter an element to add to the list.!\")\n",
        "#   while element != \"\":\n",
        "#    lst.append(element)\n",
        "#    element = input(\"Enter an element to add to the list.!\")\n",
        "#    return lst\n",
        "\n",
        "\n",
        "# def main():\n",
        "#   lst = get_lst()\n",
        "#   get_last_element(lst)\n",
        "\n",
        "# if __name__ == \"__main__\":\n",
        "#   main()\n",
        "\n",
        "\n",
        "\n",
        "\n",
        "def get_last_element(lst):\n",
        "    print(lst[-1])\n",
        "def get_lst():\n",
        "    lst = []\n",
        "    elem: str = input(\"Please enter an element of the list or press enter to stop. \")\n",
        "    while elem != \"\":\n",
        "        lst.append(elem)\n",
        "        elem = input(\"Please enter an element of the list or press enter to stop. \")\n",
        "    return lst\n",
        "def main():\n",
        "    lst = get_lst()\n",
        "    get_last_element(lst)\n",
        "\n",
        "if __name__ == '__main__':\n",
        "    main()\n"
      ],
      "metadata": {
        "colab": {
          "base_uri": "https://localhost:8080/"
        },
        "id": "X41MFE152BnK",
        "outputId": "ebf23366-346b-4ede-b923-021a142124dc"
      },
      "execution_count": 38,
      "outputs": [
        {
          "output_type": "stream",
          "name": "stdout",
          "text": [
            "06_get_last_element\n",
            "Please enter an element of the list or press enter to stop. a\n",
            "Please enter an element of the list or press enter to stop. s\n",
            "Please enter an element of the list or press enter to stop. d\n",
            "Please enter an element of the list or press enter to stop. \n",
            "d\n"
          ]
        }
      ]
    },
    {
      "cell_type": "code",
      "source": [
        "print(\"07_get_list\")\n",
        "\n",
        "def main():\n",
        "  lst = []\n",
        "  val = input(\"Enter a value to add to the list.!\")\n",
        "  while val:\n",
        "    lst.append(val)\n",
        "    val = input(\"Enter a value to add to the list.!\")\n",
        "    print(\"Here's the list:\", lst)\n",
        "\n",
        "if __name__ == \"__main__\":\n",
        "  main()"
      ],
      "metadata": {
        "colab": {
          "base_uri": "https://localhost:8080/"
        },
        "id": "uB7wv5pa39Oc",
        "outputId": "510a2afd-ed84-4a2d-80dd-cfc99e067f4c"
      },
      "execution_count": 40,
      "outputs": [
        {
          "output_type": "stream",
          "name": "stdout",
          "text": [
            "07_get_list\n",
            "Enter a value to add to the list.!ali\n",
            "Enter a value to add to the list.!khan\n",
            "Here's the list: ['ali']\n",
            "Enter a value to add to the list.!dani\n",
            "Here's the list: ['ali', 'khan']\n",
            "Enter a value to add to the list.!anee\n",
            "Here's the list: ['ali', 'khan', 'dani']\n",
            "Enter a value to add to the list.!\n",
            "Here's the list: ['ali', 'khan', 'dani', 'anee']\n"
          ]
        }
      ]
    },
    {
      "cell_type": "code",
      "source": [
        "print(\"08_shorten\")\n",
        "\n",
        "MAX_LENGTH = 3\n",
        "\n",
        "def shorten(lst):\n",
        "    while len(lst) > MAX_LENGTH:\n",
        "        last_item = lst.pop()\n",
        "        print(\"Removed:\", last_item)\n",
        "\n",
        "def get_list():\n",
        "    lst = []\n",
        "    while True:\n",
        "        value = input(\"Enter a value: \")\n",
        "        if value == \"\":\n",
        "            break\n",
        "        lst.append(value)\n",
        "    return lst\n",
        "\n",
        "def main():\n",
        "    lst = get_list()\n",
        "    shorten(lst)\n",
        "    print(\"Final list:\", lst)\n",
        "\n",
        "if __name__ == '__main__':\n",
        "    main()\n"
      ],
      "metadata": {
        "colab": {
          "base_uri": "https://localhost:8080/"
        },
        "id": "HoxaKRwp5MOq",
        "outputId": "e9e6993e-736b-449b-8e58-3f348b2edb0f"
      },
      "execution_count": 43,
      "outputs": [
        {
          "output_type": "stream",
          "name": "stdout",
          "text": [
            "08_shorten\n",
            "Enter a value: a\n",
            "Enter a value: c\n",
            "Enter a value: v\n",
            "Enter a value: g\n",
            "Enter a value: a\n",
            "Enter a value: \n",
            "Removed: a\n",
            "Removed: g\n",
            "Final list: ['a', 'c', 'v']\n"
          ]
        }
      ]
    }
  ]
}