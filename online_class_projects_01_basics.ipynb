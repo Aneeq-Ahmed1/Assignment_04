{
  "nbformat": 4,
  "nbformat_minor": 0,
  "metadata": {
    "colab": {
      "provenance": [],
      "authorship_tag": "ABX9TyM0nELQKWPGFQeeUeRst6XL",
      "include_colab_link": true
    },
    "kernelspec": {
      "name": "python3",
      "display_name": "Python 3"
    },
    "language_info": {
      "name": "python"
    }
  },
  "cells": [
    {
      "cell_type": "markdown",
      "metadata": {
        "id": "view-in-github",
        "colab_type": "text"
      },
      "source": [
        "<a href=\"https://colab.research.google.com/github/Aneeq-Ahmed1/Assignment_04/blob/master/online_class_projects_01_basics.ipynb\" target=\"_parent\"><img src=\"https://colab.research.google.com/assets/colab-badge.svg\" alt=\"Open In Colab\"/></a>"
      ]
    },
    {
      "cell_type": "code",
      "execution_count": 6,
      "metadata": {
        "colab": {
          "base_uri": "https://localhost:8080/"
        },
        "id": "zAJ5u-onOUqy",
        "outputId": "30e9df66-2cec-4c8d-d27d-912bd4182b91"
      },
      "outputs": [
        {
          "output_type": "stream",
          "name": "stdout",
          "text": [
            "What do you want?Joke\n",
            "What’s the difference between a magician and a serial killer?\n",
            "One pulls rabbits out of hats, the other pulls habits out of brats.\n"
          ]
        }
      ],
      "source": [
        "print(\"00_joke_bot\")\n",
        "PROMPT = \"What do you want?\"\n",
        "JOKE = \"What’s the difference between a magician and a serial killer?\\nOne pulls rabbits out of hats, the other pulls habits out of brats.\"\n",
        "SORRY = \"Sorry I only tell jokes\"\n",
        "\n",
        "def main():\n",
        "\n",
        "    user_input = input(PROMPT)\n",
        "    if user_input == \"Joke\":\n",
        "        print(JOKE)\n",
        "    else:\n",
        "        print(SORRY)\n",
        "\n",
        "if __name__ == '__main__':\n",
        "    main()"
      ]
    },
    {
      "cell_type": "code",
      "source": [
        "print(\"01_double_it\")\n",
        "\n",
        "def main():\n",
        "  user_value = int(input(\"Enter a number: \"))\n",
        "  while user_value < 100:\n",
        "    user_value = user_value * 2\n",
        "    print(user_value)\n",
        "\n",
        "if __name__ == \"__main__\":\n",
        "  main()"
      ],
      "metadata": {
        "colab": {
          "base_uri": "https://localhost:8080/"
        },
        "id": "m3pZ14ahQwW1",
        "outputId": "f6ddfad5-f28c-4a29-9228-9d2823c1ad86"
      },
      "execution_count": 7,
      "outputs": [
        {
          "output_type": "stream",
          "name": "stdout",
          "text": [
            "01_double_it\n",
            "Enter a number: 5\n",
            "10\n",
            "20\n",
            "40\n",
            "80\n",
            "160\n"
          ]
        }
      ]
    },
    {
      "cell_type": "code",
      "source": [
        "print(\"02_liftoff\")\n",
        "\n",
        "\n",
        "def main():\n",
        "  for i in range(10,0,-1):\n",
        "    print(i,end = \" \")\n",
        "  print(\"liftoff🚀\")\n",
        "\n",
        "if __name__ == \"__main__\":\n",
        "  main()"
      ],
      "metadata": {
        "colab": {
          "base_uri": "https://localhost:8080/"
        },
        "id": "OwoRmLczQ__T",
        "outputId": "69871065-512c-454b-9019-16079f9cd5fb"
      },
      "execution_count": 9,
      "outputs": [
        {
          "output_type": "stream",
          "name": "stdout",
          "text": [
            "02_liftoff\n",
            "10 9 8 7 6 5 4 3 2 1 liftoff🚀\n"
          ]
        }
      ]
    },
    {
      "cell_type": "code",
      "source": [
        "print(\"03_guess_my_number.\")\n",
        "\n",
        "import random\n",
        "\n",
        "def main():\n",
        "    secret_number = random.randint(1, 100)\n",
        "    print(\"I am thinking of a number between 1 and 100...\")\n",
        "\n",
        "    guess = int(input(\"Enter a guess: \"))\n",
        "\n",
        "    while guess != secret_number:\n",
        "        if guess < secret_number:\n",
        "            print(\"Your guess is too low.\")\n",
        "        elif guess > secret_number:\n",
        "            print(\"Your guess is too high.\")\n",
        "        guess = int(input(\"Enter a new guess: \"))\n",
        "\n",
        "    print(f\"Congratulations! The number was {secret_number}\")\n",
        "\n",
        "if __name__ == \"__main__\":\n",
        "    main()"
      ],
      "metadata": {
        "colab": {
          "base_uri": "https://localhost:8080/"
        },
        "id": "VmklKI82RD5i",
        "outputId": "a90d3283-1154-40ea-f37e-a732d8775a5c"
      },
      "execution_count": 10,
      "outputs": [
        {
          "output_type": "stream",
          "name": "stdout",
          "text": [
            "03_guess_my_number.\n",
            "I am thinking of a number between 1 and 100...\n",
            "Enter a guess: 50\n",
            "Your guess is too low.\n",
            "Enter a new guess: 80\n",
            "Your guess is too low.\n",
            "Enter a new guess: 90\n",
            "Your guess is too high.\n",
            "Enter a new guess: 85\n",
            "Your guess is too low.\n",
            "Enter a new guess: 87\n",
            "Your guess is too low.\n",
            "Enter a new guess: 89\n",
            "Congratulations! The number was 89\n"
          ]
        }
      ]
    },
    {
      "cell_type": "code",
      "source": [
        "print(\"04_random_numbers\")\n",
        "\n",
        "import random\n",
        "\n",
        "N_NUMBERS: int = 10\n",
        "MIN_VALUE: int = 1\n",
        "MAX_VALUE: int = 100\n",
        "\n",
        "def main():\n",
        "    for _ in range(N_NUMBERS):\n",
        "        print(random.randint(MIN_VALUE, MAX_VALUE), end=\" \")\n",
        "\n",
        "    print()\n",
        "\n",
        "if __name__ == '__main__':\n",
        "    main()"
      ],
      "metadata": {
        "colab": {
          "base_uri": "https://localhost:8080/"
        },
        "id": "cOSZg1E8R046",
        "outputId": "8c340a64-e6ee-4905-981c-1bddc50bf7fc"
      },
      "execution_count": 13,
      "outputs": [
        {
          "output_type": "stream",
          "name": "stdout",
          "text": [
            "04_random_numbers\n",
            "73 91 74 62 46 91 56 60 24 21 \n"
          ]
        }
      ]
    }
  ]
}