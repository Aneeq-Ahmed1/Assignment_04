{
  "nbformat": 4,
  "nbformat_minor": 0,
  "metadata": {
    "colab": {
      "provenance": [],
      "authorship_tag": "ABX9TyNPBkP+o+6PLFplQvWDOUHI",
      "include_colab_link": true
    },
    "kernelspec": {
      "name": "python3",
      "display_name": "Python 3"
    },
    "language_info": {
      "name": "python"
    }
  },
  "cells": [
    {
      "cell_type": "markdown",
      "metadata": {
        "id": "view-in-github",
        "colab_type": "text"
      },
      "source": [
        "<a href=\"https://colab.research.google.com/github/Aneeq-Ahmed1/Assignment_04/blob/master/06_functions.ipynb\" target=\"_parent\"><img src=\"https://colab.research.google.com/assets/colab-badge.svg\" alt=\"Open In Colab\"/></a>"
      ]
    },
    {
      "cell_type": "code",
      "execution_count": 3,
      "metadata": {
        "colab": {
          "base_uri": "https://localhost:8080/"
        },
        "id": "2-bz-K6wlhO-",
        "outputId": "c2011851-8c87-40e5-8aec-59a24fa4ac91"
      },
      "outputs": [
        {
          "output_type": "stream",
          "name": "stdout",
          "text": [
            "00_averages\n",
            "Enter first number: 4\n",
            "Enter second number: 3\n",
            "The average of 4.0 and 3.0 is 3.5\n"
          ]
        }
      ],
      "source": [
        "print(\"00_averages\")\n",
        "\n",
        "def find_average(num1, num2):\n",
        "    return (num1 + num2) / 2\n",
        "\n",
        "# Example usage\n",
        "num1 = float(input(\"Enter first number: \"))\n",
        "num2 = float(input(\"Enter second number: \"))\n",
        "\n",
        "average = find_average(a, b)\n",
        "print(f\"The average of {num1} and {num2} is {average}\")\n",
        "\n",
        "\n"
      ]
    },
    {
      "cell_type": "code",
      "source": [
        "print(\"01_chaotic_counting\")\n",
        "\n",
        "import random\n",
        "\n",
        "DONE_LIKELIHOOD = 0.2\n",
        "\n",
        "def done():\n",
        "    \"\"\"Returns True with a probability of DONE_LIKELIHOOD\"\"\"\n",
        "    return random.random() < DONE_LIKELIHOOD\n",
        "\n",
        "def chaotic_counting():\n",
        "    \"\"\"Counts from 1 to 10, but stops early if done() returns True\"\"\"\n",
        "    for i in range(1, 11):\n",
        "        if done():\n",
        "            return\n",
        "        print(i, end=\" \")\n",
        "\n",
        "def main():\n",
        "    print(\"I'm going to count until 10 or until I feel like stopping, whichever comes first.\")\n",
        "    chaotic_counting()\n",
        "    print(\"\\nI'm done.\")\n",
        "\n",
        "if __name__ == '__main__':\n",
        "    main()"
      ],
      "metadata": {
        "colab": {
          "base_uri": "https://localhost:8080/"
        },
        "id": "jOvXatkSnYb5",
        "outputId": "692fa05e-6db6-44ea-f97e-cfed8aa4cf41"
      },
      "execution_count": 21,
      "outputs": [
        {
          "output_type": "stream",
          "name": "stdout",
          "text": [
            "01_chaotic_counting\n",
            "I'm going to count until 10 or until I feel like stopping, whichever comes first.\n",
            "1 2 3 \n",
            "I'm done.\n"
          ]
        }
      ]
    },
    {
      "cell_type": "code",
      "source": [
        "print(\"02_count_even\")\n",
        "\n",
        "\n",
        "def count_even():\n",
        "    lst = []  # Initialize an empty list\n",
        "\n",
        "    # Taking input until the user presses Enter\n",
        "    while True:\n",
        "        user_input = input(\"Enter an integer or press enter to stop: \")\n",
        "\n",
        "        if user_input == \"\":  # Stop if Enter is pressed\n",
        "            break\n",
        "\n",
        "        try:\n",
        "            num = int(user_input)  # Convert input to integer\n",
        "            lst.append(num)  # Add to list\n",
        "        except ValueError:\n",
        "            print(\"Invalid input. Please enter an integer.\")\n",
        "\n",
        "    # Count even numbers in the list\n",
        "    even_count = sum(1 for num in lst if num % 2 == 0)\n",
        "\n",
        "    # Print the result\n",
        "    print(f\"Number of even numbers: {even_count}\")\n",
        "\n",
        "def main():\n",
        "    count_even()\n",
        "\n",
        "if __name__ == '__main__':\n",
        "    main()\n",
        "\n"
      ],
      "metadata": {
        "colab": {
          "base_uri": "https://localhost:8080/"
        },
        "id": "huqI7WTSoDg8",
        "outputId": "0ac3ac9b-67a0-478e-f2e1-31967ffa7b66"
      },
      "execution_count": 26,
      "outputs": [
        {
          "output_type": "stream",
          "name": "stdout",
          "text": [
            "02_count_even\n",
            "Enter an integer or press enter to stop: 111\n",
            "Enter an integer or press enter to stop: 222\n",
            "Enter an integer or press enter to stop: \n",
            "Number of even numbers: 1\n"
          ]
        }
      ]
    },
    {
      "cell_type": "code",
      "source": [
        "print(\"03_double\")\n",
        "\n",
        "def double(num):\n",
        "    return num * 2\n",
        "\n",
        "def main():\n",
        "    num = int(input(\"\\033[94mEnter a number: \\033[0m\"))\n",
        "    result = double(num)\n",
        "    print(f\"Double that is {result}\")\n",
        "\n",
        "if __name__ == '__main__':\n",
        "    main()"
      ],
      "metadata": {
        "colab": {
          "base_uri": "https://localhost:8080/"
        },
        "id": "LTMbIFniowxZ",
        "outputId": "905d8bda-f329-4cb3-bf7a-1240d6433c93"
      },
      "execution_count": 27,
      "outputs": [
        {
          "output_type": "stream",
          "name": "stdout",
          "text": [
            "04_double\n",
            "\u001b[94mEnter a number: \u001b[0m5\n",
            "Double that is 10\n"
          ]
        }
      ]
    },
    {
      "cell_type": "code",
      "source": [
        "print(\"04_get_name\")\n",
        "\n",
        "def get_name():\n",
        "    return \"Ahmed\"\n",
        "\n",
        "def main():\n",
        "    name = get_name()\n",
        "    print(f\"Howdy {name} ! 🤠\")\n",
        "\n",
        "if __name__ == '__main__':\n",
        "    main()"
      ],
      "metadata": {
        "colab": {
          "base_uri": "https://localhost:8080/"
        },
        "id": "aKFQ8nBno-nA",
        "outputId": "b9ac103f-518b-426e-8d21-e913b6edabed"
      },
      "execution_count": 30,
      "outputs": [
        {
          "output_type": "stream",
          "name": "stdout",
          "text": [
            "05_get_name\n",
            "Howdy Ahmed ! 🤠\n"
          ]
        }
      ]
    },
    {
      "cell_type": "code",
      "source": [
        "print(\"05_is_odd\")\n",
        "\n",
        "def main():\n",
        "    for num in range(10, 20):\n",
        "        if num % 2 == 0:\n",
        "            print(f\"{num} even\")\n",
        "        else:\n",
        "            print(f\"{num} odd\")\n",
        "\n",
        "if __name__ == '__main__':\n",
        "    main()"
      ],
      "metadata": {
        "colab": {
          "base_uri": "https://localhost:8080/"
        },
        "id": "P6mn40USpUtf",
        "outputId": "d83869f5-8f65-44cf-fffe-4ceeaf4d31b1"
      },
      "execution_count": 33,
      "outputs": [
        {
          "output_type": "stream",
          "name": "stdout",
          "text": [
            "06_is_odd\n",
            "10 even\n",
            "11 odd\n",
            "12 even\n",
            "13 odd\n",
            "14 even\n",
            "15 odd\n",
            "16 even\n",
            "17 odd\n",
            "18 even\n",
            "19 odd\n"
          ]
        }
      ]
    },
    {
      "cell_type": "code",
      "source": [
        "print(\"06_print_divisor\")\n",
        "\n",
        "def print_divisors(num):\n",
        "    # Loop from 1 to num (inclusive) to find divisors\n",
        "    for i in range(1, num + 1):\n",
        "        if num % i == 0:\n",
        "            print(i, end=' ')  # Print each divisor on the same line\n",
        "    print()  # Print a newline after all divisors\n",
        "\n",
        "def main():\n",
        "    # Get user input\n",
        "    num = int(input(\"Enter a number: \"))\n",
        "    print(f\"Here are the divisors of {num}\")\n",
        "    print_divisors(num)\n",
        "\n",
        "# This provided line is required at the end of\n",
        "# Python file to call the main() function.\n",
        "if __name__ == '__main__':\n",
        "    main()"
      ],
      "metadata": {
        "colab": {
          "base_uri": "https://localhost:8080/"
        },
        "id": "Oohsuv3IphLY",
        "outputId": "3ef4c7e5-25e3-46d3-f887-39b479b90209"
      },
      "execution_count": 35,
      "outputs": [
        {
          "output_type": "stream",
          "name": "stdout",
          "text": [
            "06_is_odd\n",
            "Enter a number: 36\n",
            "Here are the divisors of 36\n",
            "1 2 3 4 6 9 12 18 36 \n"
          ]
        }
      ]
    },
    {
      "cell_type": "code",
      "source": [
        "print(\"07_print_multiple\")\n",
        "\n",
        "def print_multiple(message: str, repeats: int):\n",
        "    for i in range(repeats):\n",
        "        print(message)\n",
        "\n",
        "def main():\n",
        "    message = input(\"Please type a message: \")\n",
        "    repeats = int(input(\"Enter a number of times to repeat your message: \"))\n",
        "    print_multiple(message, repeats)\n",
        "\n",
        "if __name__ == \"__main__\":\n",
        "    main()"
      ],
      "metadata": {
        "colab": {
          "base_uri": "https://localhost:8080/"
        },
        "id": "F11bfQAcpzL3",
        "outputId": "bc2d76f0-725e-4825-ad28-ce87c70ecca2"
      },
      "execution_count": 36,
      "outputs": [
        {
          "output_type": "stream",
          "name": "stdout",
          "text": [
            "07_print_multiple\n",
            "Please type a message: hello world\n",
            "Enter a number of times to repeat your message: 4\n",
            "hello world\n",
            "hello world\n",
            "hello world\n",
            "hello world\n"
          ]
        }
      ]
    },
    {
      "cell_type": "code",
      "source": [
        "print(\"08_sentence_generator\")\n",
        "\n",
        "def make_sentence(word: str, part_of_speech: int):\n",
        "    if part_of_speech == 0:\n",
        "        print(f\"I am excited to add this {word} to my vast collection of them!\")\n",
        "    elif part_of_speech == 1:\n",
        "        print(f\"It's so nice outside today it makes me want to {word}!\")\n",
        "    elif part_of_speech == 2:\n",
        "        print(f\"Looking out my window, the sky is big and {word}!\")\n",
        "    else:\n",
        "        print(\"Invalid choice! Please enter 0 for noun, 1 for verb, or 2 for adjective.\")\n",
        "\n",
        "def main():\n",
        "    word = input(\"Please type a noun, verb, or adjective: \")\n",
        "    part_of_speech = int(input(\"Is this a noun, verb, or adjective? Type 0 for noun, 1 for verb, 2 for adjective: \"))\n",
        "    make_sentence(word, part_of_speech)\n",
        "\n",
        "# Ensures the main function runs when the script is executed\n",
        "if __name__ == \"__main__\":\n",
        "    main()\n"
      ],
      "metadata": {
        "colab": {
          "base_uri": "https://localhost:8080/"
        },
        "id": "ZvfHP7mOq2FY",
        "outputId": "abf2fc9f-0d81-4146-c7c0-a96fcc9ff0e6"
      },
      "execution_count": 37,
      "outputs": [
        {
          "output_type": "stream",
          "name": "stdout",
          "text": [
            "08_sentence_generato\n",
            "Please type a noun, verb, or adjective: cat, an, place\n",
            "Is this a noun, verb, or adjective? Type 0 for noun, 1 for verb, 2 for adjective: 1\n",
            "It's so nice outside today it makes me want to cat, an, place!\n"
          ]
        }
      ]
    },
    {
      "cell_type": "code",
      "source": [
        "print(\"09_print_ones_digit\")\n",
        "\n",
        "\n",
        "def print_ones_digit(num):\n",
        "    print(\"The ones digit is\", num % 10)\n",
        "\n",
        "def main():\n",
        "    num = int(input(\"Enter a number: \"))\n",
        "    print_ones_digit(num)\n",
        "\n",
        "if __name__ == '__main__':\n",
        "    main()"
      ],
      "metadata": {
        "colab": {
          "base_uri": "https://localhost:8080/"
        },
        "id": "tuaozLqirQtA",
        "outputId": "e7107764-b3d0-46b6-bbf7-3f209c08f0d5"
      },
      "execution_count": 38,
      "outputs": [
        {
          "output_type": "stream",
          "name": "stdout",
          "text": [
            "09_print_ones_digit\n",
            "Enter a number: 5\n",
            "The ones digit is 5\n"
          ]
        }
      ]
    }
  ]
}